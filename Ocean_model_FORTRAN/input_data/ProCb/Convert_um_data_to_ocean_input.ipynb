{
 "cells": [
  {
   "cell_type": "code",
   "execution_count": null,
   "id": "fe096927",
   "metadata": {},
   "outputs": [],
   "source": [
    "import warnings\n",
    "warnings.filterwarnings(\"ignore\")"
   ]
  },
  {
   "cell_type": "code",
   "execution_count": null,
   "id": "1a41ceab",
   "metadata": {},
   "outputs": [],
   "source": [
    "import iris\n",
    "import matplotlib.pyplot as plt\n",
    "import matplotlib as mpl\n",
    "import numpy as np\n",
    "import pandas as pd\n",
    "from iris.analysis.cartography import cosine_latitude_weights"
   ]
  },
  {
   "cell_type": "code",
   "execution_count": null,
   "id": "c52f23cc",
   "metadata": {},
   "outputs": [],
   "source": [
    "from aeolus.coord import interp_to_single_pres_lev, roll_cube_pm180, ensure_bounds\n",
    "from aeolus.const import init_const"
   ]
  },
  {
   "cell_type": "code",
   "execution_count": null,
   "id": "90054bfd",
   "metadata": {},
   "outputs": [],
   "source": [
    "# SET DEFAULT FOINT SIZE FOR PLOTTING \n",
    "mpl.rcParams['font.size'] = 13\n",
    "mpl.rcParams[\"font.family\"] = \"serif\"\n",
    "csfont = {'fontname':'serif'}\n",
    "plt.rcParams['mathtext.fontset']='stix'"
   ]
  },
  {
   "cell_type": "code",
   "execution_count": null,
   "id": "027c4f17",
   "metadata": {},
   "outputs": [],
   "source": [
    "data_dir = \"/Users/jeager/Documents/PhD_work/ekman_ocean/input_data/ProCb/\""
   ]
  },
  {
   "cell_type": "code",
   "execution_count": null,
   "id": "8799b795",
   "metadata": {},
   "outputs": [],
   "source": [
    "base_name = \"ProCb_aquaplanet_modern.pb004256_00\"\n",
    "\n",
    "T_surf = \"surface_temperature\"\n",
    "sw_net_down = \"surface_net_downward_shortwave_flux\"\n",
    "lw_down = \"surface_downwelling_longwave_flux_in_air\"\n",
    "latent = \"surface_upward_latent_heat_flux\"\n",
    "sensible = \"surface_upward_sensible_heat_flux\"\n",
    "# u = \"x_wind\"\n",
    "# v = \"y_wind\"\n",
    "u = \"surface_downward_eastward_stress\"\n",
    "v = \"surface_downward_northward_stress\"\n",
    "lw_net_down = \"surface_net_downward_longwave_flux\"\n",
    "\n",
    "varnames = [\n",
    "    T_surf,\n",
    "    u,\n",
    "    v,\n",
    "    sw_net_down,\n",
    "    lw_net_down,\n",
    "    lw_down,\n",
    "    latent,\n",
    "    sensible,\n",
    "]\n",
    "\n",
    "# print(iris.load(data_dir+base_name))\n",
    "\n",
    "cubes = {}\n",
    "\n",
    "for varname in varnames:\n",
    "    filename = data_dir+base_name\n",
    "    cubes[varname] = iris.load_cube(filename,varname)\n",
    "    cubes[varname] = roll_cube_pm180(cubes[varname])\n",
    "    ensure_bounds(cubes[varname])\n",
    "#     if varname == u or varname == v:\n",
    "#         cubes[varname] = cubes[varname][0,...]\n",
    "cubes[v] = cubes[v].interpolate(\n",
    "        [('latitude', cubes[u].coord('latitude').points)]\n",
    "        , iris.analysis.Linear()\n",
    "    )"
   ]
  },
  {
   "cell_type": "code",
   "execution_count": null,
   "id": "24310585",
   "metadata": {},
   "outputs": [],
   "source": [
    "for varname in varnames:\n",
    "    lat = cubes[varname].coord('latitude').points\n",
    "    lon = cubes[varname].coord('longitude').points\n",
    "    df = pd.DataFrame(cubes[varname].data, index=lat, columns=lon)\n",
    "#     print(df)\n",
    "    df.to_csv(varname+\".dat\", sep='\\t', index=None, header=None)\n"
   ]
  },
  {
   "cell_type": "code",
   "execution_count": null,
   "id": "222974d5",
   "metadata": {},
   "outputs": [],
   "source": [
    "lat = cubes[v].coord('latitude').points\n",
    "lon = cubes[v].coord('longitude').points\n",
    "data = cubes[v].data\n",
    "cntrf = plt.contourf(lon,lat,data)\n",
    "plt.colorbar(cntrf)\n",
    "plt.show()"
   ]
  }
 ],
 "metadata": {
  "kernelspec": {
   "display_name": "Python 3",
   "language": "python",
   "name": "python3"
  },
  "language_info": {
   "codemirror_mode": {
    "name": "ipython",
    "version": 3
   },
   "file_extension": ".py",
   "mimetype": "text/x-python",
   "name": "python",
   "nbconvert_exporter": "python",
   "pygments_lexer": "ipython3",
   "version": "3.9.4"
  }
 },
 "nbformat": 4,
 "nbformat_minor": 5
}
